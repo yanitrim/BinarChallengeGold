{
 "cells": [
  {
   "cell_type": "markdown",
   "metadata": {
    "id": "-b3fS2fvRQgi"
   },
   "source": [
    "# Installing Seaborn"
   ]
  },
  {
   "cell_type": "code",
   "execution_count": 1,
   "metadata": {
    "executionInfo": {
     "elapsed": 12,
     "status": "ok",
     "timestamp": 1658768845064,
     "user": {
      "displayName": "Moch. Ari Nasichuddin",
      "userId": "02079544481646304252"
     },
     "user_tz": -420
    },
    "id": "TGd3aafkRbAP"
   },
   "outputs": [],
   "source": [
    "# !pip install seaborn"
   ]
  },
  {
   "cell_type": "code",
   "execution_count": 2,
   "metadata": {
    "executionInfo": {
     "elapsed": 8,
     "status": "ok",
     "timestamp": 1658768845065,
     "user": {
      "displayName": "Moch. Ari Nasichuddin",
      "userId": "02079544481646304252"
     },
     "user_tz": -420
    },
    "id": "I2KiIvG_PWwp"
   },
   "outputs": [],
   "source": [
    "import seaborn as sns"
   ]
  },
  {
   "cell_type": "markdown",
   "metadata": {
    "id": "hRv3dt-GRluZ"
   },
   "source": [
    "# Importing libraries and dataset"
   ]
  },
  {
   "cell_type": "code",
   "execution_count": 3,
   "metadata": {
    "executionInfo": {
     "elapsed": 783,
     "status": "ok",
     "timestamp": 1658768662594,
     "user": {
      "displayName": "Moch. Ari Nasichuddin",
      "userId": "02079544481646304252"
     },
     "user_tz": -420
    },
    "id": "nXwjIS8yO6S7"
   },
   "outputs": [],
   "source": [
    "# Pandas for managing datasets\n",
    "import pandas as pd"
   ]
  },
  {
   "cell_type": "code",
   "execution_count": 4,
   "metadata": {
    "executionInfo": {
     "elapsed": 6,
     "status": "ok",
     "timestamp": 1658768662595,
     "user": {
      "displayName": "Moch. Ari Nasichuddin",
      "userId": "02079544481646304252"
     },
     "user_tz": -420
    },
    "id": "VX54YAdlPSHO"
   },
   "outputs": [],
   "source": [
    "# Matplotlib for additional customization\n",
    "from matplotlib import pyplot as plt\n",
    "%matplotlib inline"
   ]
  },
  {
   "cell_type": "code",
   "execution_count": 5,
   "metadata": {
    "executionInfo": {
     "elapsed": 4,
     "status": "ok",
     "timestamp": 1658768679841,
     "user": {
      "displayName": "Moch. Ari Nasichuddin",
      "userId": "02079544481646304252"
     },
     "user_tz": -420
    },
    "id": "230nByFEQVF2"
   },
   "outputs": [],
   "source": [
    "df = pd.read_csv('pokemon.csv', index_col=0, encoding= 'unicode_escape')"
   ]
  },
  {
   "cell_type": "code",
   "execution_count": 6,
   "metadata": {
    "colab": {
     "base_uri": "https://localhost:8080/",
     "height": 319
    },
    "executionInfo": {
     "elapsed": 10,
     "status": "ok",
     "timestamp": 1658768682519,
     "user": {
      "displayName": "Moch. Ari Nasichuddin",
      "userId": "02079544481646304252"
     },
     "user_tz": -420
    },
    "id": "8qv3BQGmQsr6",
    "outputId": "6f2441a9-396c-4b0c-94a2-af186b0e1ff4"
   },
   "outputs": [
    {
     "data": {
      "text/html": [
       "<div>\n",
       "<style scoped>\n",
       "    .dataframe tbody tr th:only-of-type {\n",
       "        vertical-align: middle;\n",
       "    }\n",
       "\n",
       "    .dataframe tbody tr th {\n",
       "        vertical-align: top;\n",
       "    }\n",
       "\n",
       "    .dataframe thead th {\n",
       "        text-align: right;\n",
       "    }\n",
       "</style>\n",
       "<table border=\"1\" class=\"dataframe\">\n",
       "  <thead>\n",
       "    <tr style=\"text-align: right;\">\n",
       "      <th></th>\n",
       "      <th>Name</th>\n",
       "      <th>Type 1</th>\n",
       "      <th>Type 2</th>\n",
       "      <th>Total</th>\n",
       "      <th>HP</th>\n",
       "      <th>Attack</th>\n",
       "      <th>Defense</th>\n",
       "      <th>Sp. Atk</th>\n",
       "      <th>Sp. Def</th>\n",
       "      <th>Speed</th>\n",
       "      <th>Stage</th>\n",
       "      <th>Legendary</th>\n",
       "    </tr>\n",
       "    <tr>\n",
       "      <th>#</th>\n",
       "      <th></th>\n",
       "      <th></th>\n",
       "      <th></th>\n",
       "      <th></th>\n",
       "      <th></th>\n",
       "      <th></th>\n",
       "      <th></th>\n",
       "      <th></th>\n",
       "      <th></th>\n",
       "      <th></th>\n",
       "      <th></th>\n",
       "      <th></th>\n",
       "    </tr>\n",
       "  </thead>\n",
       "  <tbody>\n",
       "    <tr>\n",
       "      <th>1</th>\n",
       "      <td>Bulbasaur</td>\n",
       "      <td>Grass</td>\n",
       "      <td>Poison</td>\n",
       "      <td>318</td>\n",
       "      <td>45</td>\n",
       "      <td>49</td>\n",
       "      <td>49</td>\n",
       "      <td>65</td>\n",
       "      <td>65</td>\n",
       "      <td>45</td>\n",
       "      <td>1</td>\n",
       "      <td>False</td>\n",
       "    </tr>\n",
       "    <tr>\n",
       "      <th>2</th>\n",
       "      <td>Ivysaur</td>\n",
       "      <td>Grass</td>\n",
       "      <td>Poison</td>\n",
       "      <td>405</td>\n",
       "      <td>60</td>\n",
       "      <td>62</td>\n",
       "      <td>63</td>\n",
       "      <td>80</td>\n",
       "      <td>80</td>\n",
       "      <td>60</td>\n",
       "      <td>2</td>\n",
       "      <td>False</td>\n",
       "    </tr>\n",
       "    <tr>\n",
       "      <th>3</th>\n",
       "      <td>Venusaur</td>\n",
       "      <td>Grass</td>\n",
       "      <td>Poison</td>\n",
       "      <td>525</td>\n",
       "      <td>80</td>\n",
       "      <td>82</td>\n",
       "      <td>83</td>\n",
       "      <td>100</td>\n",
       "      <td>100</td>\n",
       "      <td>80</td>\n",
       "      <td>3</td>\n",
       "      <td>False</td>\n",
       "    </tr>\n",
       "    <tr>\n",
       "      <th>4</th>\n",
       "      <td>Charmander</td>\n",
       "      <td>Fire</td>\n",
       "      <td>NaN</td>\n",
       "      <td>309</td>\n",
       "      <td>39</td>\n",
       "      <td>52</td>\n",
       "      <td>43</td>\n",
       "      <td>60</td>\n",
       "      <td>50</td>\n",
       "      <td>65</td>\n",
       "      <td>1</td>\n",
       "      <td>False</td>\n",
       "    </tr>\n",
       "    <tr>\n",
       "      <th>5</th>\n",
       "      <td>Charmeleon</td>\n",
       "      <td>Fire</td>\n",
       "      <td>NaN</td>\n",
       "      <td>405</td>\n",
       "      <td>58</td>\n",
       "      <td>64</td>\n",
       "      <td>58</td>\n",
       "      <td>80</td>\n",
       "      <td>65</td>\n",
       "      <td>80</td>\n",
       "      <td>2</td>\n",
       "      <td>False</td>\n",
       "    </tr>\n",
       "  </tbody>\n",
       "</table>\n",
       "</div>"
      ],
      "text/plain": [
       "         Name Type 1  Type 2  Total  HP  Attack  Defense  Sp. Atk  Sp. Def  \\\n",
       "#                                                                            \n",
       "1   Bulbasaur  Grass  Poison    318  45      49       49       65       65   \n",
       "2     Ivysaur  Grass  Poison    405  60      62       63       80       80   \n",
       "3    Venusaur  Grass  Poison    525  80      82       83      100      100   \n",
       "4  Charmander   Fire     NaN    309  39      52       43       60       50   \n",
       "5  Charmeleon   Fire     NaN    405  58      64       58       80       65   \n",
       "\n",
       "   Speed  Stage  Legendary  \n",
       "#                           \n",
       "1     45      1      False  \n",
       "2     60      2      False  \n",
       "3     80      3      False  \n",
       "4     65      1      False  \n",
       "5     80      2      False  "
      ]
     },
     "execution_count": 6,
     "metadata": {},
     "output_type": "execute_result"
    }
   ],
   "source": [
    "df.head()"
   ]
  },
  {
   "cell_type": "markdown",
   "metadata": {
    "id": "hD7NEiBERtfW"
   },
   "source": [
    "# Seaborn's plotting functions"
   ]
  },
  {
   "cell_type": "code",
   "execution_count": 7,
   "metadata": {
    "colab": {
     "base_uri": "https://localhost:8080/",
     "height": 387
    },
    "executionInfo": {
     "elapsed": 860,
     "status": "ok",
     "timestamp": 1658768685098,
     "user": {
      "displayName": "Moch. Ari Nasichuddin",
      "userId": "02079544481646304252"
     },
     "user_tz": -420
    },
    "id": "m0XeSHOrRIUd",
    "outputId": "f93cbeee-4b82-4310-9e06-36cbe72a7983"
   },
   "outputs": [
    {
     "ename": "NameError",
     "evalue": "name 'pokemon' is not defined",
     "output_type": "error",
     "traceback": [
      "\u001b[1;31m---------------------------------------------------------------------------\u001b[0m",
      "\u001b[1;31mNameError\u001b[0m                                 Traceback (most recent call last)",
      "Cell \u001b[1;32mIn[7], line 2\u001b[0m\n\u001b[0;32m      1\u001b[0m \u001b[38;5;66;03m# Recommended way\u001b[39;00m\n\u001b[1;32m----> 2\u001b[0m sns\u001b[38;5;241m.\u001b[39mlmplot(x\u001b[38;5;241m=\u001b[39m\u001b[38;5;124m'\u001b[39m\u001b[38;5;124mAttack\u001b[39m\u001b[38;5;124m'\u001b[39m, y\u001b[38;5;241m=\u001b[39m\u001b[38;5;124m'\u001b[39m\u001b[38;5;124mDefense\u001b[39m\u001b[38;5;124m'\u001b[39m, data\u001b[38;5;241m=\u001b[39m\u001b[43mpokemon\u001b[49m, fit_reg\u001b[38;5;241m=\u001b[39m\u001b[38;5;28;01mTrue\u001b[39;00m)\n",
      "\u001b[1;31mNameError\u001b[0m: name 'pokemon' is not defined"
     ]
    }
   ],
   "source": [
    "# Recommended way\n",
    "sns.lmplot(x='Attack', y='Defense', data=pokemon, fit_reg=True)\n",
    " \n",
    "# Alternative way\n",
    "# sns.lmplot(x=df.Attack, y=df.Defense)"
   ]
  },
  {
   "cell_type": "code",
   "execution_count": null,
   "metadata": {
    "colab": {
     "base_uri": "https://localhost:8080/",
     "height": 387
    },
    "executionInfo": {
     "elapsed": 821,
     "status": "ok",
     "timestamp": 1658768705926,
     "user": {
      "displayName": "Moch. Ari Nasichuddin",
      "userId": "02079544481646304252"
     },
     "user_tz": -420
    },
    "id": "asYKr1bWRyzJ",
    "outputId": "4e5bcce7-53d6-4050-cc0f-105c3bd5c408"
   },
   "outputs": [],
   "source": [
    "sns.lmplot(x='Attack', y='Defense', data=df, \n",
    "           hue='Stage')   "
   ]
  },
  {
   "cell_type": "markdown",
   "metadata": {
    "id": "tZ-LRiGjSDb1"
   },
   "source": [
    "# Customizing with Matplotlib"
   ]
  },
  {
   "cell_type": "code",
   "execution_count": null,
   "metadata": {
    "colab": {
     "base_uri": "https://localhost:8080/",
     "height": 387
    },
    "executionInfo": {
     "elapsed": 1154,
     "status": "ok",
     "timestamp": 1658768711607,
     "user": {
      "displayName": "Moch. Ari Nasichuddin",
      "userId": "02079544481646304252"
     },
     "user_tz": -420
    },
    "id": "jss78rMnR6-o",
    "outputId": "1527d408-8b61-4872-8b4d-d8934ed3ec1e"
   },
   "outputs": [],
   "source": [
    "# Plot using Seaborn\n",
    "sns.lmplot(x='Attack', y='Defense', data=df,\n",
    "           fit_reg=False, \n",
    "           hue='Stage')\n",
    " \n",
    "# Tweak using Matplotlib\n",
    "plt.ylim(0, None)\n",
    "plt.xlim(0, None)"
   ]
  },
  {
   "cell_type": "markdown",
   "metadata": {
    "id": "TWOmddDpSl6X"
   },
   "source": [
    "# The role of Pandas"
   ]
  },
  {
   "cell_type": "code",
   "execution_count": null,
   "metadata": {
    "colab": {
     "base_uri": "https://localhost:8080/",
     "height": 283
    },
    "executionInfo": {
     "elapsed": 921,
     "status": "ok",
     "timestamp": 1658768716165,
     "user": {
      "displayName": "Moch. Ari Nasichuddin",
      "userId": "02079544481646304252"
     },
     "user_tz": -420
    },
    "id": "NnyWmeMsSJg_",
    "outputId": "5b40640d-015d-481e-ce8a-89558c3e307e"
   },
   "outputs": [],
   "source": [
    "# Boxplot\n",
    "sns.boxplot(data=df)"
   ]
  },
  {
   "cell_type": "code",
   "execution_count": null,
   "metadata": {
    "colab": {
     "base_uri": "https://localhost:8080/",
     "height": 283
    },
    "executionInfo": {
     "elapsed": 778,
     "status": "ok",
     "timestamp": 1658768716937,
     "user": {
      "displayName": "Moch. Ari Nasichuddin",
      "userId": "02079544481646304252"
     },
     "user_tz": -420
    },
    "id": "JC3FjQUwSpAh",
    "outputId": "a353ad45-3651-460d-f774-927995ae6585"
   },
   "outputs": [],
   "source": [
    "# Pre-format DataFrame\n",
    "stats_df = df.drop(['Total', 'Stage', 'Legendary'], axis=1)\n",
    " \n",
    "# New boxplot using stats_df\n",
    "sns.boxplot(data=stats_df)"
   ]
  },
  {
   "cell_type": "markdown",
   "metadata": {
    "id": "EhDAJ8MFS2CD"
   },
   "source": [
    "# Heatmap"
   ]
  },
  {
   "cell_type": "code",
   "execution_count": null,
   "metadata": {
    "colab": {
     "base_uri": "https://localhost:8080/",
     "height": 287
    },
    "executionInfo": {
     "elapsed": 392,
     "status": "ok",
     "timestamp": 1658768721462,
     "user": {
      "displayName": "Moch. Ari Nasichuddin",
      "userId": "02079544481646304252"
     },
     "user_tz": -420
    },
    "id": "4nEZZqAeStjE",
    "outputId": "84af3143-17a1-47e1-f498-5d04c05bbf49"
   },
   "outputs": [],
   "source": [
    "corr = stats_df.corr()\n",
    " \n",
    "sns.heatmap(corr)"
   ]
  },
  {
   "cell_type": "markdown",
   "metadata": {
    "id": "7Ead1W3bTCdq"
   },
   "source": [
    "# Histogram"
   ]
  },
  {
   "cell_type": "code",
   "execution_count": 8,
   "metadata": {
    "colab": {
     "base_uri": "https://localhost:8080/",
     "height": 356
    },
    "executionInfo": {
     "elapsed": 443,
     "status": "ok",
     "timestamp": 1658768735810,
     "user": {
      "displayName": "Moch. Ari Nasichuddin",
      "userId": "02079544481646304252"
     },
     "user_tz": -420
    },
    "id": "HPb9JjrNS-hu",
    "outputId": "80afd12d-a082-4829-b685-40a6cffc0a3c"
   },
   "outputs": [
    {
     "name": "stderr",
     "output_type": "stream",
     "text": [
      "C:\\Users\\KKA\\AppData\\Local\\Temp\\ipykernel_3796\\2498996650.py:1: UserWarning: \n",
      "\n",
      "`distplot` is a deprecated function and will be removed in seaborn v0.14.0.\n",
      "\n",
      "Please adapt your code to use either `displot` (a figure-level function with\n",
      "similar flexibility) or `histplot` (an axes-level function for histograms).\n",
      "\n",
      "For a guide to updating your code to use the new functions, please see\n",
      "https://gist.github.com/mwaskom/de44147ed2974457ad6372750bbe5751\n",
      "\n",
      "  sns.distplot(df.Attack)\n"
     ]
    },
    {
     "data": {
      "text/plain": [
       "<Axes: xlabel='Attack', ylabel='Density'>"
      ]
     },
     "execution_count": 8,
     "metadata": {},
     "output_type": "execute_result"
    },
    {
     "data": {
      "image/png": "[encoded data removed]",
      "text/plain": [
       "<Figure size 640x480 with 1 Axes>"
      ]
     },
     "metadata": {},
     "output_type": "display_data"
    }
   ],
   "source": [
    "sns.distplot(df.Attack)"
   ]
  },
  {
   "cell_type": "markdown",
   "metadata": {
    "id": "js5VObbqTKGi"
   },
   "source": [
    "# Bar Plot"
   ]
  },
  {
   "cell_type": "code",
   "execution_count": 14,
   "metadata": {
    "colab": {
     "base_uri": "https://localhost:8080/",
     "height": 341
    },
    "executionInfo": {
     "elapsed": 641,
     "status": "ok",
     "timestamp": 1658768739027,
     "user": {
      "displayName": "Moch. Ari Nasichuddin",
      "userId": "02079544481646304252"
     },
     "user_tz": -420
    },
    "id": "hwHtO7JlTGHy",
    "outputId": "61b1acaf-9756-455e-ef3c-419c86c5aee0"
   },
   "outputs": [
    {
     "data": {
      "text/plain": [
       "(array([ 0,  1,  2,  3,  4,  5,  6,  7,  8,  9, 10, 11, 12, 13, 14]),\n",
       " [Text(0, 0, 'Grass'),\n",
       "  Text(1, 0, 'Fire'),\n",
       "  Text(2, 0, 'Water'),\n",
       "  Text(3, 0, 'Bug'),\n",
       "  Text(4, 0, 'Normal'),\n",
       "  Text(5, 0, 'Poison'),\n",
       "  Text(6, 0, 'Electric'),\n",
       "  Text(7, 0, 'Ground'),\n",
       "  Text(8, 0, 'Fairy'),\n",
       "  Text(9, 0, 'Fighting'),\n",
       "  Text(10, 0, 'Psychic'),\n",
       "  Text(11, 0, 'Rock'),\n",
       "  Text(12, 0, 'Ghost'),\n",
       "  Text(13, 0, 'Ice'),\n",
       "  Text(14, 0, 'Dragon')])"
      ]
     },
     "execution_count": 14,
     "metadata": {},
     "output_type": "execute_result"
    },
    {
     "data": {
      "image/png": "[encoded data removed]",
      "text/plain": [
       "<Figure size 640x480 with 1 Axes>"
      ]
     },
     "metadata": {},
     "output_type": "display_data"
    }
   ],
   "source": [
    "# Count Plot (a.k.a. Bar Plot)\n",
    "sns.countplot(x='Type 1', data=df)\n",
    " \n",
    "# Rotate x-labels\n",
    "plt.xticks(rotation=-90)"
   ]
  },
  {
   "cell_type": "code",
   "execution_count": 15,
   "metadata": {},
   "outputs": [
    {
     "data": {
      "text/html": [
       "<div>\n",
       "<style scoped>\n",
       "    .dataframe tbody tr th:only-of-type {\n",
       "        vertical-align: middle;\n",
       "    }\n",
       "\n",
       "    .dataframe tbody tr th {\n",
       "        vertical-align: top;\n",
       "    }\n",
       "\n",
       "    .dataframe thead th {\n",
       "        text-align: right;\n",
       "    }\n",
       "</style>\n",
       "<table border=\"1\" class=\"dataframe\">\n",
       "  <thead>\n",
       "    <tr style=\"text-align: right;\">\n",
       "      <th></th>\n",
       "      <th>Name</th>\n",
       "      <th>Type 1</th>\n",
       "      <th>Type 2</th>\n",
       "      <th>Total</th>\n",
       "      <th>HP</th>\n",
       "      <th>Attack</th>\n",
       "      <th>Defense</th>\n",
       "      <th>Sp. Atk</th>\n",
       "      <th>Sp. Def</th>\n",
       "      <th>Speed</th>\n",
       "      <th>Stage</th>\n",
       "      <th>Legendary</th>\n",
       "    </tr>\n",
       "    <tr>\n",
       "      <th>#</th>\n",
       "      <th></th>\n",
       "      <th></th>\n",
       "      <th></th>\n",
       "      <th></th>\n",
       "      <th></th>\n",
       "      <th></th>\n",
       "      <th></th>\n",
       "      <th></th>\n",
       "      <th></th>\n",
       "      <th></th>\n",
       "      <th></th>\n",
       "      <th></th>\n",
       "    </tr>\n",
       "  </thead>\n",
       "  <tbody>\n",
       "    <tr>\n",
       "      <th>1</th>\n",
       "      <td>Bulbasaur</td>\n",
       "      <td>Grass</td>\n",
       "      <td>Poison</td>\n",
       "      <td>318</td>\n",
       "      <td>45</td>\n",
       "      <td>49</td>\n",
       "      <td>49</td>\n",
       "      <td>65</td>\n",
       "      <td>65</td>\n",
       "      <td>45</td>\n",
       "      <td>1</td>\n",
       "      <td>False</td>\n",
       "    </tr>\n",
       "    <tr>\n",
       "      <th>2</th>\n",
       "      <td>Ivysaur</td>\n",
       "      <td>Grass</td>\n",
       "      <td>Poison</td>\n",
       "      <td>405</td>\n",
       "      <td>60</td>\n",
       "      <td>62</td>\n",
       "      <td>63</td>\n",
       "      <td>80</td>\n",
       "      <td>80</td>\n",
       "      <td>60</td>\n",
       "      <td>2</td>\n",
       "      <td>False</td>\n",
       "    </tr>\n",
       "    <tr>\n",
       "      <th>3</th>\n",
       "      <td>Venusaur</td>\n",
       "      <td>Grass</td>\n",
       "      <td>Poison</td>\n",
       "      <td>525</td>\n",
       "      <td>80</td>\n",
       "      <td>82</td>\n",
       "      <td>83</td>\n",
       "      <td>100</td>\n",
       "      <td>100</td>\n",
       "      <td>80</td>\n",
       "      <td>3</td>\n",
       "      <td>False</td>\n",
       "    </tr>\n",
       "    <tr>\n",
       "      <th>4</th>\n",
       "      <td>Charmander</td>\n",
       "      <td>Fire</td>\n",
       "      <td>NaN</td>\n",
       "      <td>309</td>\n",
       "      <td>39</td>\n",
       "      <td>52</td>\n",
       "      <td>43</td>\n",
       "      <td>60</td>\n",
       "      <td>50</td>\n",
       "      <td>65</td>\n",
       "      <td>1</td>\n",
       "      <td>False</td>\n",
       "    </tr>\n",
       "    <tr>\n",
       "      <th>5</th>\n",
       "      <td>Charmeleon</td>\n",
       "      <td>Fire</td>\n",
       "      <td>NaN</td>\n",
       "      <td>405</td>\n",
       "      <td>58</td>\n",
       "      <td>64</td>\n",
       "      <td>58</td>\n",
       "      <td>80</td>\n",
       "      <td>65</td>\n",
       "      <td>80</td>\n",
       "      <td>2</td>\n",
       "      <td>False</td>\n",
       "    </tr>\n",
       "  </tbody>\n",
       "</table>\n",
       "</div>"
      ],
      "text/plain": [
       "         Name Type 1  Type 2  Total  HP  Attack  Defense  Sp. Atk  Sp. Def  \\\n",
       "#                                                                            \n",
       "1   Bulbasaur  Grass  Poison    318  45      49       49       65       65   \n",
       "2     Ivysaur  Grass  Poison    405  60      62       63       80       80   \n",
       "3    Venusaur  Grass  Poison    525  80      82       83      100      100   \n",
       "4  Charmander   Fire     NaN    309  39      52       43       60       50   \n",
       "5  Charmeleon   Fire     NaN    405  58      64       58       80       65   \n",
       "\n",
       "   Speed  Stage  Legendary  \n",
       "#                           \n",
       "1     45      1      False  \n",
       "2     60      2      False  \n",
       "3     80      3      False  \n",
       "4     65      1      False  \n",
       "5     80      2      False  "
      ]
     },
     "execution_count": 15,
     "metadata": {},
     "output_type": "execute_result"
    }
   ],
   "source": [
    "df.head()"
   ]
  },
  {
   "cell_type": "markdown",
   "metadata": {
    "id": "FoSUZ75zTYNL"
   },
   "source": [
    "# Factor Plot"
   ]
  },
  {
   "cell_type": "code",
   "execution_count": 10,
   "metadata": {
    "colab": {
     "base_uri": "https://localhost:8080/",
     "height": 327
    },
    "executionInfo": {
     "elapsed": 3413,
     "status": "ok",
     "timestamp": 1658768743938,
     "user": {
      "displayName": "Moch. Ari Nasichuddin",
      "userId": "02079544481646304252"
     },
     "user_tz": -420
    },
    "id": "3DhoQi0lTNOj",
    "outputId": "ec9a2ed5-11b6-4000-fecc-7de6a4402dc3"
   },
   "outputs": [
    {
     "data": {
      "text/plain": [
       "<seaborn.axisgrid.FacetGrid at 0x11b24c09630>"
      ]
     },
     "execution_count": 10,
     "metadata": {},
     "output_type": "execute_result"
    },
    {
     "data": {
      "image/png": "[encoded data removed]",
      "text/plain": [
       "<Figure size 1500x500 with 3 Axes>"
      ]
     },
     "metadata": {},
     "output_type": "display_data"
    }
   ],
   "source": [
    "# Factor Plot\n",
    "g = sns.catplot(x='Type 1', \n",
    "                   y='Attack', \n",
    "                   data=df, \n",
    "                   hue='Stage',  # Color by stage\n",
    "                   col='Stage',  # Separate by stage\n",
    "                   kind='swarm') # Swarmplot\n",
    " \n",
    "# Rotate x-axis labels\n",
    "g.set_xticklabels(rotation=-45)\n",
    " \n",
    "# Doesn't work because only rotates last plot\n",
    "# plt.xticks(rotation=-45)"
   ]
  },
  {
   "cell_type": "code",
   "execution_count": null,
   "metadata": {},
   "outputs": [],
   "source": [
    "df"
   ]
  },
  {
   "cell_type": "markdown",
   "metadata": {
    "id": "eKU5py-1TmMn"
   },
   "source": [
    "# Density Plot"
   ]
  },
  {
   "cell_type": "code",
   "execution_count": 11,
   "metadata": {
    "colab": {
     "base_uri": "https://localhost:8080/",
     "height": 353
    },
    "executionInfo": {
     "elapsed": 1850,
     "status": "ok",
     "timestamp": 1658768751147,
     "user": {
      "displayName": "Moch. Ari Nasichuddin",
      "userId": "02079544481646304252"
     },
     "user_tz": -420
    },
    "id": "BQ0eNmAOTgo2",
    "outputId": "6ac3b2fa-e643-4054-cd49-884e66c65996"
   },
   "outputs": [
    {
     "data": {
      "text/plain": [
       "<Axes: xlabel='Attack', ylabel='Density'>"
      ]
     },
     "execution_count": 11,
     "metadata": {},
     "output_type": "execute_result"
    },
    {
     "data": {
      "image/png": "[encoded data removed]",
      "text/plain": [
       "<Figure size 640x480 with 1 Axes>"
      ]
     },
     "metadata": {},
     "output_type": "display_data"
    }
   ],
   "source": [
    "# Density Plot\n",
    "sns.kdeplot(df.Attack)"
   ]
  }
 ],
 "metadata": {
  "colab": {
   "authorship_tag": "ABX9TyPT0Z9aanwSIHekncixOBwq",
   "collapsed_sections": [],
   "mount_file_id": "1EtfzkXxbYyRv2kjg2rgk2HGHzBqw5eIw",
   "name": "CH3TP2_seaborn.ipynb",
   "provenance": []
  },
  "kernelspec": {
   "display_name": "Python 3 (ipykernel)",
   "language": "python",
   "name": "python3"
  },
  "language_info": {
   "codemirror_mode": {
    "name": "ipython",
    "version": 3
   },
   "file_extension": ".py",
   "mimetype": "text/x-python",
   "name": "python",
   "nbconvert_exporter": "python",
   "pygments_lexer": "ipython3",
   "version": "3.10.9"
  }
 },
 "nbformat": 4,
 "nbformat_minor": 1
}
